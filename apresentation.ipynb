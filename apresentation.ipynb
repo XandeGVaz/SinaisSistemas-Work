{
 "cells": [
  {
   "cell_type": "markdown",
   "metadata": {},
   "source": [
    "# <font color=\"gren\">**Trabalho final Sinais e Sistemas**"
   ]
  },
  {
   "cell_type": "markdown",
   "metadata": {},
   "source": [
    "## <font color=\"green\"> **Alunos:**\n",
    "* Pedro Gasparelo Leme - 14602421\n",
    "* Vitor Alexandre Garcia Vaz - 14611432"
   ]
  },
  {
   "cell_type": "markdown",
   "metadata": {},
   "source": [
    "## <font color=\"green\">**Solução: Plotagem da convolução de sinais**"
   ]
  },
  {
   "cell_type": "markdown",
   "metadata": {},
   "source": [
    "## **Imports necessários**"
   ]
  },
  {
   "cell_type": "code",
   "execution_count": null,
   "metadata": {},
   "outputs": [],
   "source": [
    "import numpy as np\n",
    "import matplotlib.pyplot as plt\n",
    "import scipy\n",
    "from scipy.interpolate import interp1d\n"
   ]
  },
  {
   "cell_type": "markdown",
   "metadata": {},
   "source": [
    "## **Funções necessárias**"
   ]
  },
  {
   "cell_type": "markdown",
   "metadata": {},
   "source": [
    "### a) Integral de uma função"
   ]
  },
  {
   "cell_type": "code",
   "execution_count": 2,
   "metadata": {},
   "outputs": [],
   "source": [
    "def intg_s(a,b,N,f):\n",
    "    h=(b-a)/N ##calcula tamanho das partições\n",
    "    som=0 ##somatório da fórmula\n",
    "\n",
    "    x=np.zeros(N+1)\n",
    "    x[0]=a\n",
    "\n",
    "    for k in range(1,N+1):\n",
    "        x[k]=a+h*k ## valores de x a cada partição h\n",
    "    \n",
    "    for k in range (1,N+1):##cálculo do somatório\n",
    "        xb=(x[k-1]+x[k])/2\n",
    "        som=som+f(x[k-1])+4*f(xb)+f(x[k]) \n",
    "\n",
    "    return ((h/6)*som)"
   ]
  },
  {
   "cell_type": "markdown",
   "metadata": {},
   "source": [
    "### b) Deslocamento de uma função no tempo"
   ]
  },
  {
   "cell_type": "markdown",
   "metadata": {},
   "source": [
    "### c) Inversão (espelhamento) de uma função em relação ao eixo y"
   ]
  }
 ],
 "metadata": {
  "kernelspec": {
   "display_name": "usr",
   "language": "python",
   "name": "python3"
  },
  "language_info": {
   "codemirror_mode": {
    "name": "ipython",
    "version": 3
   },
   "file_extension": ".py",
   "mimetype": "text/x-python",
   "name": "python",
   "nbconvert_exporter": "python",
   "pygments_lexer": "ipython3",
   "version": "3.12.3"
  }
 },
 "nbformat": 4,
 "nbformat_minor": 2
}
